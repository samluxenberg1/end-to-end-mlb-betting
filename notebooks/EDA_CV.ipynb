{
 "cells": [
  {
   "cell_type": "code",
   "execution_count": 1,
   "id": "fc761ba7-1848-49da-bb7d-751ac277b653",
   "metadata": {},
   "outputs": [],
   "source": [
    "import numpy as np\n",
    "import pandas as pd\n",
    "from sklearn.dummy import DummyClassifier\n",
    "from sklearn.model_selection import cross_val_score\n",
    "\n",
    "from mlxtend.evaluate.time_series import (\n",
    "    GroupTimeSeriesSplit,\n",
    "    plot_splits,\n",
    "    print_cv_info,\n",
    "    print_split_info,\n",
    ")"
   ]
  },
  {
   "cell_type": "code",
   "execution_count": 2,
   "id": "8c2f28ee-902a-4eb5-8094-6b81e7e78e46",
   "metadata": {},
   "outputs": [],
   "source": [
    "data = [[0], [7], [6], [4], [4], [8], [0], [6], [2], [0], [5], [9], [7], [7], [7], [7]]\n",
    "target = [1, 0, 1, 0, 1, 0, 0, 1, 1, 1, 0, 1, 1, 0, 0, 0]\n",
    "\n",
    "X = pd.DataFrame(data, columns=[\"num_feature\"])\n",
    "y = pd.Series(target, name=\"target\")"
   ]
  },
  {
   "cell_type": "code",
   "execution_count": 4,
   "id": "5aed47a4-d2c2-45bd-9852-69022e3430bb",
   "metadata": {},
   "outputs": [
    {
     "data": {
      "text/html": [
       "<div>\n",
       "<style scoped>\n",
       "    .dataframe tbody tr th:only-of-type {\n",
       "        vertical-align: middle;\n",
       "    }\n",
       "\n",
       "    .dataframe tbody tr th {\n",
       "        vertical-align: top;\n",
       "    }\n",
       "\n",
       "    .dataframe thead th {\n",
       "        text-align: right;\n",
       "    }\n",
       "</style>\n",
       "<table border=\"1\" class=\"dataframe\">\n",
       "  <thead>\n",
       "    <tr style=\"text-align: right;\">\n",
       "      <th></th>\n",
       "      <th>num_feature</th>\n",
       "    </tr>\n",
       "  </thead>\n",
       "  <tbody>\n",
       "    <tr>\n",
       "      <th>0</th>\n",
       "      <td>0</td>\n",
       "    </tr>\n",
       "    <tr>\n",
       "      <th>1</th>\n",
       "      <td>7</td>\n",
       "    </tr>\n",
       "    <tr>\n",
       "      <th>2</th>\n",
       "      <td>6</td>\n",
       "    </tr>\n",
       "    <tr>\n",
       "      <th>3</th>\n",
       "      <td>4</td>\n",
       "    </tr>\n",
       "    <tr>\n",
       "      <th>4</th>\n",
       "      <td>4</td>\n",
       "    </tr>\n",
       "    <tr>\n",
       "      <th>5</th>\n",
       "      <td>8</td>\n",
       "    </tr>\n",
       "    <tr>\n",
       "      <th>6</th>\n",
       "      <td>0</td>\n",
       "    </tr>\n",
       "    <tr>\n",
       "      <th>7</th>\n",
       "      <td>6</td>\n",
       "    </tr>\n",
       "    <tr>\n",
       "      <th>8</th>\n",
       "      <td>2</td>\n",
       "    </tr>\n",
       "    <tr>\n",
       "      <th>9</th>\n",
       "      <td>0</td>\n",
       "    </tr>\n",
       "    <tr>\n",
       "      <th>10</th>\n",
       "      <td>5</td>\n",
       "    </tr>\n",
       "    <tr>\n",
       "      <th>11</th>\n",
       "      <td>9</td>\n",
       "    </tr>\n",
       "    <tr>\n",
       "      <th>12</th>\n",
       "      <td>7</td>\n",
       "    </tr>\n",
       "    <tr>\n",
       "      <th>13</th>\n",
       "      <td>7</td>\n",
       "    </tr>\n",
       "    <tr>\n",
       "      <th>14</th>\n",
       "      <td>7</td>\n",
       "    </tr>\n",
       "    <tr>\n",
       "      <th>15</th>\n",
       "      <td>7</td>\n",
       "    </tr>\n",
       "  </tbody>\n",
       "</table>\n",
       "</div>"
      ],
      "text/plain": [
       "    num_feature\n",
       "0             0\n",
       "1             7\n",
       "2             6\n",
       "3             4\n",
       "4             4\n",
       "5             8\n",
       "6             0\n",
       "7             6\n",
       "8             2\n",
       "9             0\n",
       "10            5\n",
       "11            9\n",
       "12            7\n",
       "13            7\n",
       "14            7\n",
       "15            7"
      ]
     },
     "execution_count": 4,
     "metadata": {},
     "output_type": "execute_result"
    }
   ],
   "source": [
    "X"
   ]
  },
  {
   "cell_type": "code",
   "execution_count": 5,
   "id": "32d6abee-bc9e-487e-b03a-d039e10ab6f1",
   "metadata": {},
   "outputs": [
    {
     "data": {
      "text/plain": [
       "array([0, 1, 1, 1, 1, 2, 2, 2, 3, 3, 4, 4, 5, 5, 5, 5])"
      ]
     },
     "execution_count": 5,
     "metadata": {},
     "output_type": "execute_result"
    }
   ],
   "source": [
    "groups = np.array([0, 1, 1, 1, 1, 2, 2, 2, 3, 3, 4, 4, 5, 5, 5, 5])\n",
    "groups"
   ]
  },
  {
   "cell_type": "code",
   "execution_count": 6,
   "id": "aff6266b-06eb-45f2-8f91-d876b742780a",
   "metadata": {},
   "outputs": [
    {
     "data": {
      "text/plain": [
       "array(['2021-01', '2021-02', '2021-02', '2021-02', '2021-02', '2021-03',\n",
       "       '2021-03', '2021-03', '2021-04', '2021-04', '2021-05', '2021-05',\n",
       "       '2021-06', '2021-06', '2021-06', '2021-06'], dtype='<U7')"
      ]
     },
     "execution_count": 6,
     "metadata": {},
     "output_type": "execute_result"
    }
   ],
   "source": [
    "months_map = {i: f\"2021-0{i+1}\" for i in range(6)}\n",
    "months = np.array([months_map[group] for group in groups])\n",
    "months"
   ]
  },
  {
   "cell_type": "code",
   "execution_count": 7,
   "id": "8ba23abc-ffe2-436e-846d-ecc05f33c05a",
   "metadata": {},
   "outputs": [],
   "source": [
    "X = X.set_index(months)"
   ]
  },
  {
   "cell_type": "code",
   "execution_count": 8,
   "id": "40f2f90d-fd5b-4617-80f4-1af7108c3022",
   "metadata": {},
   "outputs": [
    {
     "data": {
      "text/html": [
       "<div>\n",
       "<style scoped>\n",
       "    .dataframe tbody tr th:only-of-type {\n",
       "        vertical-align: middle;\n",
       "    }\n",
       "\n",
       "    .dataframe tbody tr th {\n",
       "        vertical-align: top;\n",
       "    }\n",
       "\n",
       "    .dataframe thead th {\n",
       "        text-align: right;\n",
       "    }\n",
       "</style>\n",
       "<table border=\"1\" class=\"dataframe\">\n",
       "  <thead>\n",
       "    <tr style=\"text-align: right;\">\n",
       "      <th></th>\n",
       "      <th>num_feature</th>\n",
       "    </tr>\n",
       "  </thead>\n",
       "  <tbody>\n",
       "    <tr>\n",
       "      <th>2021-01</th>\n",
       "      <td>0</td>\n",
       "    </tr>\n",
       "    <tr>\n",
       "      <th>2021-02</th>\n",
       "      <td>7</td>\n",
       "    </tr>\n",
       "    <tr>\n",
       "      <th>2021-02</th>\n",
       "      <td>6</td>\n",
       "    </tr>\n",
       "    <tr>\n",
       "      <th>2021-02</th>\n",
       "      <td>4</td>\n",
       "    </tr>\n",
       "    <tr>\n",
       "      <th>2021-02</th>\n",
       "      <td>4</td>\n",
       "    </tr>\n",
       "    <tr>\n",
       "      <th>2021-03</th>\n",
       "      <td>8</td>\n",
       "    </tr>\n",
       "    <tr>\n",
       "      <th>2021-03</th>\n",
       "      <td>0</td>\n",
       "    </tr>\n",
       "    <tr>\n",
       "      <th>2021-03</th>\n",
       "      <td>6</td>\n",
       "    </tr>\n",
       "    <tr>\n",
       "      <th>2021-04</th>\n",
       "      <td>2</td>\n",
       "    </tr>\n",
       "    <tr>\n",
       "      <th>2021-04</th>\n",
       "      <td>0</td>\n",
       "    </tr>\n",
       "    <tr>\n",
       "      <th>2021-05</th>\n",
       "      <td>5</td>\n",
       "    </tr>\n",
       "    <tr>\n",
       "      <th>2021-05</th>\n",
       "      <td>9</td>\n",
       "    </tr>\n",
       "    <tr>\n",
       "      <th>2021-06</th>\n",
       "      <td>7</td>\n",
       "    </tr>\n",
       "    <tr>\n",
       "      <th>2021-06</th>\n",
       "      <td>7</td>\n",
       "    </tr>\n",
       "    <tr>\n",
       "      <th>2021-06</th>\n",
       "      <td>7</td>\n",
       "    </tr>\n",
       "    <tr>\n",
       "      <th>2021-06</th>\n",
       "      <td>7</td>\n",
       "    </tr>\n",
       "  </tbody>\n",
       "</table>\n",
       "</div>"
      ],
      "text/plain": [
       "         num_feature\n",
       "2021-01            0\n",
       "2021-02            7\n",
       "2021-02            6\n",
       "2021-02            4\n",
       "2021-02            4\n",
       "2021-03            8\n",
       "2021-03            0\n",
       "2021-03            6\n",
       "2021-04            2\n",
       "2021-04            0\n",
       "2021-05            5\n",
       "2021-05            9\n",
       "2021-06            7\n",
       "2021-06            7\n",
       "2021-06            7\n",
       "2021-06            7"
      ]
     },
     "execution_count": 8,
     "metadata": {},
     "output_type": "execute_result"
    }
   ],
   "source": [
    "X"
   ]
  },
  {
   "cell_type": "markdown",
   "id": "e2c4a563-cd35-4d7d-9311-2db690e68fb1",
   "metadata": {},
   "source": [
    "# Example 1 -- Multiple training groups (with train size specified)\n",
    "Let's create a time series splitting with a training dataset that consists of 3 groups. And we will use 1 group for testing. In this case, the number of splits will be calculated automatically since both the training set and the test set sizes are specified.\n",
    "\n",
    "The first 3 rows in the visualization describe how each split is distributed among groups.\n",
    "The groups are visualized in the last row where each color represents different group."
   ]
  },
  {
   "cell_type": "code",
   "execution_count": 18,
   "id": "bf73dbbb-8c73-44d5-8fa8-a173f84d3991",
   "metadata": {},
   "outputs": [
    {
     "ename": "ValueError",
     "evalue": "Train size can be specified only with rolling window",
     "output_type": "error",
     "traceback": [
      "\u001b[0;31m---------------------------------------------------------------------------\u001b[0m",
      "\u001b[0;31mValueError\u001b[0m                                Traceback (most recent call last)",
      "Cell \u001b[0;32mIn[18], line 3\u001b[0m\n\u001b[1;32m      1\u001b[0m cv_args \u001b[38;5;241m=\u001b[39m {\u001b[38;5;124m\"\u001b[39m\u001b[38;5;124mtest_size\u001b[39m\u001b[38;5;124m\"\u001b[39m: \u001b[38;5;241m1\u001b[39m, \u001b[38;5;124m\"\u001b[39m\u001b[38;5;124mtrain_size\u001b[39m\u001b[38;5;124m\"\u001b[39m: \u001b[38;5;241m3\u001b[39m, \u001b[38;5;124m\"\u001b[39m\u001b[38;5;124mwindow_type\u001b[39m\u001b[38;5;124m\"\u001b[39m: \u001b[38;5;124m'\u001b[39m\u001b[38;5;124mexpanding\u001b[39m\u001b[38;5;124m'\u001b[39m}\n\u001b[0;32m----> 3\u001b[0m \u001b[43mplot_splits\u001b[49m\u001b[43m(\u001b[49m\u001b[43mX\u001b[49m\u001b[43m,\u001b[49m\u001b[43m \u001b[49m\u001b[43my\u001b[49m\u001b[43m,\u001b[49m\u001b[43m \u001b[49m\u001b[43mgroups\u001b[49m\u001b[43m,\u001b[49m\u001b[43m \u001b[49m\u001b[38;5;241;43m*\u001b[39;49m\u001b[38;5;241;43m*\u001b[39;49m\u001b[43mcv_args\u001b[49m\u001b[43m)\u001b[49m\n\u001b[1;32m      4\u001b[0m print_split_info(X, y, groups, \u001b[38;5;241m*\u001b[39m\u001b[38;5;241m*\u001b[39mcv_args)\n",
      "File \u001b[0;32m~/Library/CloudStorage/OneDrive-Personal/GitHub/end-to-end-mlb-betting/.venv/lib/python3.10/site-packages/mlxtend/evaluate/time_series.py:345\u001b[0m, in \u001b[0;36mplot_splits\u001b[0;34m(X, y, groups, image_file_path, **cv_args)\u001b[0m\n\u001b[1;32m    343\u001b[0m \u001b[38;5;28;01mdef\u001b[39;00m\u001b[38;5;250m \u001b[39m\u001b[38;5;21mplot_splits\u001b[39m(X, y, groups, image_file_path\u001b[38;5;241m=\u001b[39m\u001b[38;5;28;01mNone\u001b[39;00m, \u001b[38;5;241m*\u001b[39m\u001b[38;5;241m*\u001b[39mcv_args):\n\u001b[1;32m    344\u001b[0m \u001b[38;5;250m    \u001b[39m\u001b[38;5;124;03m\"\"\"Visualize splits by group.\"\"\"\u001b[39;00m\n\u001b[0;32m--> 345\u001b[0m     cv \u001b[38;5;241m=\u001b[39m \u001b[43mGroupTimeSeriesSplit\u001b[49m\u001b[43m(\u001b[49m\u001b[38;5;241;43m*\u001b[39;49m\u001b[38;5;241;43m*\u001b[39;49m\u001b[43mcv_args\u001b[49m\u001b[43m)\u001b[49m\n\u001b[1;32m    346\u001b[0m     cv\u001b[38;5;241m.\u001b[39m_n_groups \u001b[38;5;241m=\u001b[39m \u001b[38;5;28mlen\u001b[39m(np\u001b[38;5;241m.\u001b[39munique(groups))\n\u001b[1;32m    347\u001b[0m     cv\u001b[38;5;241m.\u001b[39m_calculate_split_params()\n",
      "File \u001b[0;32m~/Library/CloudStorage/OneDrive-Personal/GitHub/end-to-end-mlb-betting/.venv/lib/python3.10/site-packages/mlxtend/evaluate/time_series.py:57\u001b[0m, in \u001b[0;36mGroupTimeSeriesSplit.__init__\u001b[0;34m(self, test_size, train_size, n_splits, gap_size, shift_size, window_type)\u001b[0m\n\u001b[1;32m     54\u001b[0m     \u001b[38;5;28;01mraise\u001b[39;00m \u001b[38;5;167;01mValueError\u001b[39;00m(\u001b[38;5;124m'\u001b[39m\u001b[38;5;124mWindow type can be either \u001b[39m\u001b[38;5;124m\"\u001b[39m\u001b[38;5;124mrolling\u001b[39m\u001b[38;5;124m\"\u001b[39m\u001b[38;5;124m or \u001b[39m\u001b[38;5;124m\"\u001b[39m\u001b[38;5;124mexpanding\u001b[39m\u001b[38;5;124m\"\u001b[39m\u001b[38;5;124m'\u001b[39m)\n\u001b[1;32m     56\u001b[0m \u001b[38;5;28;01mif\u001b[39;00m (train_size \u001b[38;5;129;01mis\u001b[39;00m \u001b[38;5;129;01mnot\u001b[39;00m \u001b[38;5;28;01mNone\u001b[39;00m) \u001b[38;5;129;01mand\u001b[39;00m (window_type \u001b[38;5;241m==\u001b[39m \u001b[38;5;124m\"\u001b[39m\u001b[38;5;124mexpanding\u001b[39m\u001b[38;5;124m\"\u001b[39m):\n\u001b[0;32m---> 57\u001b[0m     \u001b[38;5;28;01mraise\u001b[39;00m \u001b[38;5;167;01mValueError\u001b[39;00m(\u001b[38;5;124m\"\u001b[39m\u001b[38;5;124mTrain size can be specified only with rolling window\u001b[39m\u001b[38;5;124m\"\u001b[39m)\n\u001b[1;32m     59\u001b[0m \u001b[38;5;28mself\u001b[39m\u001b[38;5;241m.\u001b[39mtest_size \u001b[38;5;241m=\u001b[39m test_size\n\u001b[1;32m     60\u001b[0m \u001b[38;5;28mself\u001b[39m\u001b[38;5;241m.\u001b[39mtrain_size \u001b[38;5;241m=\u001b[39m train_size\n",
      "\u001b[0;31mValueError\u001b[0m: Train size can be specified only with rolling window"
     ]
    }
   ],
   "source": [
    "cv_args = {\"test_size\": 1, \"train_size\": 3, \"window_type\": 'expanding'}\n",
    "\n",
    "plot_splits(X, y, groups, **cv_args)\n",
    "print_split_info(X, y, groups, **cv_args)"
   ]
  },
  {
   "cell_type": "code",
   "execution_count": 10,
   "id": "91649675-392b-4f09-9ec3-529703c73e1b",
   "metadata": {},
   "outputs": [
    {
     "data": {
      "image/png": "[encoded data removed]",
      "text/plain": [
       "<Figure size 1200x400 with 1 Axes>"
      ]
     },
     "metadata": {},
     "output_type": "display_data"
    }
   ],
   "source": [
    "cv_args = {\"test_size\": 1, \"train_size\": 4}\n",
    "\n",
    "plot_splits(X, y, groups, **cv_args)"
   ]
  },
  {
   "cell_type": "markdown",
   "id": "161754a9-ff11-4a7d-b012-1b2751ff7d47",
   "metadata": {},
   "source": [
    "# Usage in CV\n",
    "The example below illustrates how we can use the time series splitter with scikit-learn, i.e., using cross_val_score:\n"
   ]
  },
  {
   "cell_type": "code",
   "execution_count": 11,
   "id": "2260e610-5a13-4ee9-813b-de0f4873266f",
   "metadata": {},
   "outputs": [
    {
     "name": "stdout",
     "output_type": "stream",
     "text": [
      "Split number: 1\n",
      "Train true target: [1 0 1 0 1 0 0 1 1 1]\n",
      "Train predicted target: [1 1 1 1 1 1 1 1 1 1]\n",
      "Test true target: [0 1]\n",
      "Test predicted target: [1 1]\n",
      "Accuracy: 0.5\n",
      "\n",
      "Split number: 2\n",
      "Train true target: [0 1 0 1 0 0 1 1 1 0 1]\n",
      "Train predicted target: [1 1 1 1 1 1 1 1 1 1 1]\n",
      "Test true target: [1 0 0 0]\n",
      "Test predicted target: [1 1 1 1]\n",
      "Accuracy: 0.25\n",
      "\n"
     ]
    }
   ],
   "source": [
    "cv = GroupTimeSeriesSplit(**cv_args)\n",
    "clf = DummyClassifier(strategy=\"most_frequent\")\n",
    "\n",
    "scores = cross_val_score(clf, X, y, groups=groups, scoring=\"accuracy\", cv=cv)\n",
    "print_cv_info(cv, X, y, groups, clf, scores)"
   ]
  },
  {
   "cell_type": "markdown",
   "id": "cc33ba4e-5168-48b7-adb1-a1bd77dbced9",
   "metadata": {},
   "source": [
    "# Example 2 -- Multiple training groups (with number of splits specified)\n",
    "Now let's take a look at an example where we don't specify the number of training groups. Here, we will split the dataset with test size (2 groups) and a specified number of splits (3 groups), which is sufficient for calculating the training size automatically."
   ]
  },
  {
   "cell_type": "code",
   "execution_count": 12,
   "id": "4850957b-2329-4ceb-8913-49debd824844",
   "metadata": {},
   "outputs": [
    {
     "data": {
      "image/png": "[encoded data removed]",
      "text/plain": [
       "<Figure size 1200x400 with 1 Axes>"
      ]
     },
     "metadata": {},
     "output_type": "display_data"
    },
    {
     "name": "stdout",
     "output_type": "stream",
     "text": [
      "Train indices: [0 1 2 3 4]\n",
      "Test indices: [5 6 7 8 9]\n",
      "Train length: 5\n",
      "Test length: 5\n",
      "Train groups: [0 1 1 1 1]\n",
      "Test groups: [2 2 2 3 3]\n",
      "Train group size: 2\n",
      "Test group size: 2\n",
      "Train group months: ['2021-01' '2021-02' '2021-02' '2021-02' '2021-02']\n",
      "Test group months: ['2021-03' '2021-03' '2021-03' '2021-04' '2021-04']\n",
      "\n",
      "Train indices: [1 2 3 4 5 6 7]\n",
      "Test indices: [ 8  9 10 11]\n",
      "Train length: 7\n",
      "Test length: 4\n",
      "Train groups: [1 1 1 1 2 2 2]\n",
      "Test groups: [3 3 4 4]\n",
      "Train group size: 2\n",
      "Test group size: 2\n",
      "Train group months: ['2021-02' '2021-02' '2021-02' '2021-02' '2021-03' '2021-03' '2021-03']\n",
      "Test group months: ['2021-04' '2021-04' '2021-05' '2021-05']\n",
      "\n",
      "Train indices: [5 6 7 8 9]\n",
      "Test indices: [10 11 12 13 14 15]\n",
      "Train length: 5\n",
      "Test length: 6\n",
      "Train groups: [2 2 2 3 3]\n",
      "Test groups: [4 4 5 5 5 5]\n",
      "Train group size: 2\n",
      "Test group size: 2\n",
      "Train group months: ['2021-03' '2021-03' '2021-03' '2021-04' '2021-04']\n",
      "Test group months: ['2021-05' '2021-05' '2021-06' '2021-06' '2021-06' '2021-06']\n",
      "\n"
     ]
    }
   ],
   "source": [
    "cv_args = {\"test_size\": 2, \"n_splits\": 3}\n",
    "\n",
    "plot_splits(X, y, groups, **cv_args)\n",
    "print_split_info(X, y, groups, **cv_args)"
   ]
  },
  {
   "cell_type": "code",
   "execution_count": 13,
   "id": "3ce40d3e-571a-4d9c-b87a-a1ec8375418e",
   "metadata": {},
   "outputs": [
    {
     "name": "stdout",
     "output_type": "stream",
     "text": [
      "Split number: 1\n",
      "Train true target: [1 0 1 0 1]\n",
      "Train predicted target: [1 1 1 1 1]\n",
      "Test true target: [0 0 1 1 1]\n",
      "Test predicted target: [1 1 1 1 1]\n",
      "Accuracy: 0.6\n",
      "\n",
      "Split number: 2\n",
      "Train true target: [0 1 0 1 0 0 1]\n",
      "Train predicted target: [0 0 0 0 0 0 0]\n",
      "Test true target: [1 1 0 1]\n",
      "Test predicted target: [0 0 0 0]\n",
      "Accuracy: 0.25\n",
      "\n",
      "Split number: 3\n",
      "Train true target: [0 0 1 1 1]\n",
      "Train predicted target: [1 1 1 1 1]\n",
      "Test true target: [0 1 1 0 0 0]\n",
      "Test predicted target: [1 1 1 1 1 1]\n",
      "Accuracy: 0.33\n",
      "\n"
     ]
    }
   ],
   "source": [
    "cv = GroupTimeSeriesSplit(**cv_args)\n",
    "clf = DummyClassifier(strategy=\"most_frequent\")\n",
    "\n",
    "scores = cross_val_score(clf, X, y, groups=groups, scoring=\"accuracy\", cv=cv)\n",
    "print_cv_info(cv, X, y, groups, clf, scores)"
   ]
  },
  {
   "cell_type": "markdown",
   "id": "12ef3add-298f-421d-a1c8-5b223d87b09f",
   "metadata": {},
   "source": [
    "# Example 3 -- Defining the gap size between training and test datasets\n",
    "GroupTimeSeriesSplit let's you specify a gap size greater than 1 in order to skip a specified number of groups between training and test folds (the default gap size is 0). In the example below, we use a gap of 1 group to illustrate this."
   ]
  },
  {
   "cell_type": "code",
   "execution_count": 26,
   "id": "2b0c92df-25fc-448d-b5e0-4ef62d5fc88f",
   "metadata": {},
   "outputs": [
    {
     "ename": "ValueError",
     "evalue": "Not enough data to split number of groups (6) for number splits (5) with train size (0), test size (1), gap size (1), shift size (1)",
     "output_type": "error",
     "traceback": [
      "\u001b[0;31m---------------------------------------------------------------------------\u001b[0m",
      "\u001b[0;31mValueError\u001b[0m                                Traceback (most recent call last)",
      "Cell \u001b[0;32mIn[26], line 3\u001b[0m\n\u001b[1;32m      1\u001b[0m cv_args \u001b[38;5;241m=\u001b[39m {\u001b[38;5;124m\"\u001b[39m\u001b[38;5;124mtest_size\u001b[39m\u001b[38;5;124m\"\u001b[39m: \u001b[38;5;241m1\u001b[39m,\u001b[38;5;124m\"\u001b[39m\u001b[38;5;124mn_splits\u001b[39m\u001b[38;5;124m\"\u001b[39m:\u001b[38;5;241m5\u001b[39m, \u001b[38;5;124m\"\u001b[39m\u001b[38;5;124mgap_size\u001b[39m\u001b[38;5;124m\"\u001b[39m: \u001b[38;5;241m1\u001b[39m, \u001b[38;5;124m\"\u001b[39m\u001b[38;5;124mwindow_type\u001b[39m\u001b[38;5;124m\"\u001b[39m: \u001b[38;5;124m'\u001b[39m\u001b[38;5;124mexpanding\u001b[39m\u001b[38;5;124m'\u001b[39m}\n\u001b[0;32m----> 3\u001b[0m \u001b[43mplot_splits\u001b[49m\u001b[43m(\u001b[49m\u001b[43mX\u001b[49m\u001b[43m,\u001b[49m\u001b[43m \u001b[49m\u001b[43my\u001b[49m\u001b[43m,\u001b[49m\u001b[43m \u001b[49m\u001b[43mgroups\u001b[49m\u001b[43m,\u001b[49m\u001b[43m \u001b[49m\u001b[38;5;241;43m*\u001b[39;49m\u001b[38;5;241;43m*\u001b[39;49m\u001b[43mcv_args\u001b[49m\u001b[43m)\u001b[49m\n\u001b[1;32m      4\u001b[0m print_split_info(X, y, groups, \u001b[38;5;241m*\u001b[39m\u001b[38;5;241m*\u001b[39mcv_args)\n",
      "File \u001b[0;32m~/Library/CloudStorage/OneDrive-Personal/GitHub/end-to-end-mlb-betting/.venv/lib/python3.10/site-packages/mlxtend/evaluate/time_series.py:347\u001b[0m, in \u001b[0;36mplot_splits\u001b[0;34m(X, y, groups, image_file_path, **cv_args)\u001b[0m\n\u001b[1;32m    345\u001b[0m cv \u001b[38;5;241m=\u001b[39m GroupTimeSeriesSplit(\u001b[38;5;241m*\u001b[39m\u001b[38;5;241m*\u001b[39mcv_args)\n\u001b[1;32m    346\u001b[0m cv\u001b[38;5;241m.\u001b[39m_n_groups \u001b[38;5;241m=\u001b[39m \u001b[38;5;28mlen\u001b[39m(np\u001b[38;5;241m.\u001b[39munique(groups))\n\u001b[0;32m--> 347\u001b[0m \u001b[43mcv\u001b[49m\u001b[38;5;241;43m.\u001b[39;49m\u001b[43m_calculate_split_params\u001b[49m\u001b[43m(\u001b[49m\u001b[43m)\u001b[49m\n\u001b[1;32m    348\u001b[0m n_splits \u001b[38;5;241m=\u001b[39m cv\u001b[38;5;241m.\u001b[39mn_splits\n\u001b[1;32m    350\u001b[0m plot_split_indices(\n\u001b[1;32m    351\u001b[0m     cv, cv_args, X, y, groups, n_splits, image_file_path\u001b[38;5;241m=\u001b[39mimage_file_path\n\u001b[1;32m    352\u001b[0m )\n",
      "File \u001b[0;32m~/Library/CloudStorage/OneDrive-Personal/GitHub/end-to-end-mlb-betting/.venv/lib/python3.10/site-packages/mlxtend/evaluate/time_series.py:188\u001b[0m, in \u001b[0;36mGroupTimeSeriesSplit._calculate_split_params\u001b[0;34m(self)\u001b[0m\n\u001b[1;32m    185\u001b[0m     \u001b[38;5;28mself\u001b[39m\u001b[38;5;241m.\u001b[39mtrain_size \u001b[38;5;241m=\u001b[39m train_size\n\u001b[1;32m    187\u001b[0m     \u001b[38;5;28;01mif\u001b[39;00m train_size \u001b[38;5;241m<\u001b[39m\u001b[38;5;241m=\u001b[39m \u001b[38;5;241m0\u001b[39m:\n\u001b[0;32m--> 188\u001b[0m         \u001b[38;5;28;01mraise\u001b[39;00m \u001b[38;5;167;01mValueError\u001b[39;00m(\n\u001b[1;32m    189\u001b[0m             not_enough_data_error\u001b[38;5;241m.\u001b[39mformat(\n\u001b[1;32m    190\u001b[0m                 n_groups,\n\u001b[1;32m    191\u001b[0m                 n_splits,\n\u001b[1;32m    192\u001b[0m                 train_size,\n\u001b[1;32m    193\u001b[0m                 test_size,\n\u001b[1;32m    194\u001b[0m                 gap,\n\u001b[1;32m    195\u001b[0m                 shift_size,\n\u001b[1;32m    196\u001b[0m             )\n\u001b[1;32m    197\u001b[0m         )\n\u001b[1;32m    198\u001b[0m     train_start_idx \u001b[38;5;241m=\u001b[39m \u001b[38;5;241m0\u001b[39m\n\u001b[1;32m    199\u001b[0m \u001b[38;5;28;01melif\u001b[39;00m (n_splits \u001b[38;5;129;01mis\u001b[39;00m \u001b[38;5;28;01mNone\u001b[39;00m) \u001b[38;5;129;01mand\u001b[39;00m (train_size \u001b[38;5;129;01mis\u001b[39;00m \u001b[38;5;129;01mnot\u001b[39;00m \u001b[38;5;28;01mNone\u001b[39;00m):\n",
      "\u001b[0;31mValueError\u001b[0m: Not enough data to split number of groups (6) for number splits (5) with train size (0), test size (1), gap size (1), shift size (1)"
     ]
    }
   ],
   "source": [
    "cv_args = {\"test_size\": 1,\"n_splits\":5, \"gap_size\": 1, \"window_type\": 'expanding'}\n",
    "\n",
    "plot_splits(X, y, groups, **cv_args)\n",
    "print_split_info(X, y, groups, **cv_args)"
   ]
  },
  {
   "cell_type": "code",
   "execution_count": 15,
   "id": "c3c73995-9c9a-48ad-963f-b359558f924d",
   "metadata": {},
   "outputs": [
    {
     "name": "stdout",
     "output_type": "stream",
     "text": [
      "Split number: 1\n",
      "Train true target: [1 0 1 0 1]\n",
      "Train predicted target: [1 1 1 1 1]\n",
      "Test true target: [1 1]\n",
      "Test predicted target: [1 1]\n",
      "Accuracy: 1.0\n",
      "\n",
      "Split number: 2\n",
      "Train true target: [0 1 0 1 0 0 1]\n",
      "Train predicted target: [0 0 0 0 0 0 0]\n",
      "Test true target: [0 1]\n",
      "Test predicted target: [0 0]\n",
      "Accuracy: 0.5\n",
      "\n",
      "Split number: 3\n",
      "Train true target: [0 0 1 1 1]\n",
      "Train predicted target: [1 1 1 1 1]\n",
      "Test true target: [1 0 0 0]\n",
      "Test predicted target: [1 1 1 1]\n",
      "Accuracy: 0.25\n",
      "\n"
     ]
    }
   ],
   "source": [
    "cv = GroupTimeSeriesSplit(**cv_args)\n",
    "clf = DummyClassifier(strategy=\"most_frequent\")\n",
    "\n",
    "scores = cross_val_score(clf, X, y, groups=groups, scoring=\"accuracy\", cv=cv)\n",
    "print_cv_info(cv, X, y, groups, clf, scores)"
   ]
  },
  {
   "cell_type": "code",
   "execution_count": null,
   "id": "87a08014-7f32-47fe-8596-510283f6482a",
   "metadata": {},
   "outputs": [],
   "source": []
  },
  {
   "cell_type": "code",
   "execution_count": null,
   "id": "975ab012-0c5e-4cbc-afe6-6eb26debf729",
   "metadata": {},
   "outputs": [],
   "source": []
  }
 ],
 "metadata": {
  "kernelspec": {
   "display_name": "Python 3 (ipykernel)",
   "language": "python",
   "name": "python3"
  },
  "language_info": {
   "codemirror_mode": {
    "name": "ipython",
    "version": 3
   },
   "file_extension": ".py",
   "mimetype": "text/x-python",
   "name": "python",
   "nbconvert_exporter": "python",
   "pygments_lexer": "ipython3",
   "version": "3.10.17"
  }
 },
 "nbformat": 4,
 "nbformat_minor": 5
}
